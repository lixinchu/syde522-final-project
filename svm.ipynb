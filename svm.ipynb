{
 "cells": [
  {
   "cell_type": "code",
   "execution_count": 26,
   "metadata": {},
   "outputs": [],
   "source": [
    "import os\n",
    "import pandas as pd\n",
    "import numpy as np\n",
    "from sklearn.preprocessing import LabelBinarizer\n",
    "from sklearn.model_selection import train_test_split\n",
    "\n",
    "# from google.colab import drive\n",
    "# drive.mount('/content/drive')\n",
    "\n",
    "def preprocess():\n",
    "    # Data paths\n",
    "    train_data_file = 'sign_mnist_train.csv'\n",
    "    test_data_file = 'sign_mnist_test.csv'\n",
    "    folder_name = 'Project Data'\n",
    "\n",
    "    desktop_path = os.path.join(os.path.expanduser(\"~\"), \"Desktop\")\n",
    "    train_data_path = os.path.join(desktop_path, folder_name, train_data_file)\n",
    "    test_data_path = os.path.join(desktop_path, folder_name, test_data_file)\n",
    "    # train_data_path = f'/content/drive/My Drive/{train_data_file}'\n",
    "    # test_data_path = f'/content/drive/My Drive/{test_data_file}'\n",
    "\n",
    "    # Load data\n",
    "    train_df = pd.read_csv(train_data_path)\n",
    "    test_df = pd.read_csv(test_data_path)\n",
    "\n",
    "    train_labels = train_df['label']\n",
    "    train = train_df.drop(['label'], axis=1)\n",
    "\n",
    "    test_labels = test_df['label']\n",
    "    test = test_df.drop(['label'], axis=1)\n",
    "\n",
    "    # Reshaping images\n",
    "    train_images = train.values\n",
    "    train_images = np.array([np.reshape(i, (28, 28)) for i in train_images])\n",
    "    train_images = np.array([i.flatten() for i in train_images])\n",
    "\n",
    "    test_images = test.values\n",
    "    test_images = np.array([np.reshape(i, (28, 28)) for i in test_images])\n",
    "    test_images = np.array([i.flatten() for i in test_images])\n",
    "\n",
    "    # One hot encoding labels\n",
    "    binrizer = LabelBinarizer()\n",
    "    #train_labels = binrizer.fit_transform(train_labels)\n",
    "    #test_labels = binrizer.fit_transform(test_labels)\n",
    "\n",
    "    # Split into train and validation sets\n",
    "    X_train, X_valid, y_train, y_valid = train_test_split(train_images, train_labels, test_size=0.2, random_state=42)\n",
    "\n",
    "    # Normalize pixel values [0, 1]\n",
    "    X_train = X_train/ 255.0\n",
    "    X_valid = X_valid / 255.0\n",
    "\n",
    "    # Reshape to 4D array (CNN) # COMMENTED OUT FOR SVM\n",
    "    # X_train = X_train.reshape(X_train.shape[0], 28, 28, 1)\n",
    "    # X_valid = X_valid.reshape(X_valid.shape[0], 28, 28, 1)\n",
    "    # test_images = test_images.reshape(test_images.shape[0], 28, 28, 1)\n",
    "\n",
    "    return X_train, X_valid, test_images, y_train, y_valid, test_labels"
   ]
  },
  {
   "cell_type": "code",
   "execution_count": 27,
   "metadata": {},
   "outputs": [
    {
     "name": "stdout",
     "output_type": "stream",
     "text": [
      "(21964, 784)\n",
      "(21964,)\n",
      "16203    24\n",
      "23292     8\n",
      "7204     18\n",
      "22591     2\n",
      "3498     24\n",
      "         ..\n",
      "17877    22\n",
      "8025      4\n",
      "11230     0\n",
      "17654    20\n",
      "9672      3\n",
      "Name: label, Length: 5491, dtype: int64\n",
      "(7172, 784)\n"
     ]
    }
   ],
   "source": [
    "X_train, X_valid, test_images, y_train, y_valid, test_labels = preprocess()"
   ]
  },
  {
   "cell_type": "code",
   "execution_count": 32,
   "metadata": {},
   "outputs": [],
   "source": [
    "from sklearn.model_selection import train_test_split, GridSearchCV\n",
    "from sklearn.svm import SVC, SVR\n",
    "from sklearn.metrics import classification_report, accuracy_score\n",
    "\n",
    "# SVM\n",
    "svm = SVC(kernel='poly')\n",
    "svm_param_grid = {'degree': [3, 10], 'C': [1, 10]}\n",
    "svm_grid_search = GridSearchCV(svm, svm_param_grid, cv=5)\n",
    "svm_grid_search.fit(X_train, y_train)\n",
    "svm_best_clf = svm_grid_search.best_estimator_\n",
    "print(svm_grid_search.best_params_)\n",
    "\n",
    "y_pred_svm = svm_best_clf.predict(test_images)\n",
    "print(\"SVM performance:\")\n",
    "print(classification_report(test_labels, y_pred_svm))"
   ]
  }
 ],
 "metadata": {
  "kernelspec": {
   "display_name": "Python 3",
   "language": "python",
   "name": "python3"
  },
  "language_info": {
   "codemirror_mode": {
    "name": "ipython",
    "version": 3
   },
   "file_extension": ".py",
   "mimetype": "text/x-python",
   "name": "python",
   "nbconvert_exporter": "python",
   "pygments_lexer": "ipython3",
   "version": "3.11.4"
  }
 },
 "nbformat": 4,
 "nbformat_minor": 2
}
