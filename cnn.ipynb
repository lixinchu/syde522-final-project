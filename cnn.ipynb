{
  "nbformat": 4,
  "nbformat_minor": 0,
  "metadata": {
    "colab": {
      "provenance": [],
      "gpuType": "T4"
    },
    "kernelspec": {
      "name": "python3",
      "display_name": "Python 3"
    },
    "language_info": {
      "name": "python"
    },
    "accelerator": "GPU"
  },
  "cells": [
    {
      "cell_type": "code",
      "execution_count": 5,
      "metadata": {
        "colab": {
          "base_uri": "https://localhost:8080/"
        },
        "id": "ML029u-i5LJA",
        "outputId": "52395bd5-d7f0-4e0b-c91d-9e420b2efbb8"
      },
      "outputs": [
        {
          "output_type": "stream",
          "name": "stdout",
          "text": [
            "Drive already mounted at /content/drive; to attempt to forcibly remount, call drive.mount(\"/content/drive\", force_remount=True).\n"
          ]
        }
      ],
      "source": [
        "import os\n",
        "import pandas as pd\n",
        "import numpy as np\n",
        "from sklearn.preprocessing import LabelBinarizer\n",
        "from sklearn.model_selection import train_test_split\n",
        "\n",
        "from google.colab import drive\n",
        "drive.mount('/content/drive')\n",
        "\n",
        "def preprocess():\n",
        "    # Data paths\n",
        "    train_data_file = 'sign_mnist_train.csv'\n",
        "    test_data_file = 'sign_mnist_test.csv'\n",
        "    folder_name = 'Project Data'\n",
        "\n",
        "    # desktop_path = os.path.join(os.path.expanduser(\"~\"), \"Desktop\")\n",
        "    # train_data_path = os.path.join(desktop_path, folder_name, train_data_file)\n",
        "    # test_data_path = os.path.join(desktop_path, folder_name, test_data_file)\n",
        "    train_data_path = f'/content/drive/My Drive/{train_data_file}'\n",
        "    test_data_path = f'/content/drive/My Drive/{test_data_file}'\n",
        "\n",
        "    # Load data\n",
        "    train_df = pd.read_csv(train_data_path)\n",
        "    test_df = pd.read_csv(test_data_path)\n",
        "\n",
        "    train_labels = train_df['label']\n",
        "    train = train_df.drop(['label'], axis=1)\n",
        "\n",
        "    test_labels = test_df['label']\n",
        "    test = test_df.drop(['label'], axis=1)\n",
        "\n",
        "    # Reshaping images\n",
        "    train_images = train.values\n",
        "    train_images = np.array([np.reshape(i, (28, 28)) for i in train_images])\n",
        "    train_images = np.array([i.flatten() for i in train_images])\n",
        "\n",
        "    test_images = test.values\n",
        "    test_images = np.array([np.reshape(i, (28, 28)) for i in test_images])\n",
        "    test_images = np.array([i.flatten() for i in test_images])\n",
        "\n",
        "    # One hot encoding labels\n",
        "    binrizer = LabelBinarizer()\n",
        "    train_labels = binrizer.fit_transform(train_labels)\n",
        "    test_labels = binrizer.fit_transform(test_labels)\n",
        "\n",
        "    # Split into train and validation sets\n",
        "    X_train, X_valid, y_train, y_valid = train_test_split(train_images, train_labels, test_size=0.2, random_state=42)\n",
        "\n",
        "    # Normalize pixel values [0, 1]\n",
        "    X_train = X_train/ 255.0\n",
        "    X_valid = X_valid / 255.0\n",
        "\n",
        "    # Reshape to 4D array (CNN)\n",
        "    X_train = X_train.reshape(X_train.shape[0], 28, 28, 1)\n",
        "    X_valid = X_valid.reshape(X_valid.shape[0], 28, 28, 1)\n",
        "    test_images = test_images.reshape(test_images.shape[0], 28, 28, 1)\n",
        "\n",
        "    return X_train, X_valid, test_images, y_train, y_valid, test_labels"
      ]
    },
    {
      "cell_type": "code",
      "source": [
        "X_train, X_valid, test_images, y_train, y_valid, test_labels = preprocess()"
      ],
      "metadata": {
        "id": "w_r2qWmq7RhC"
      },
      "execution_count": 6,
      "outputs": []
    },
    {
      "cell_type": "code",
      "source": [
        "import keras\n",
        "from keras.models import Sequential\n",
        "from keras.layers import Dense, Conv2D , MaxPool2D , Flatten , Dropout , BatchNormalization\n",
        "\n",
        "model = Sequential()\n",
        "model.add(Conv2D(16 , kernel_size=(3,3), activation='relu' , input_shape=(28,28,1)))\n",
        "model.add(MaxPool2D(pool_size=(2,2)))\n",
        "\n",
        "model.add(Conv2D(32 , kernel_size=(3,3), activation='relu' , input_shape=(28,28,1)))\n",
        "model.add(MaxPool2D(pool_size=(2,2)))\n",
        "\n",
        "model.add(Conv2D(64 , kernel_size=(3,3), activation='relu' , input_shape=(28,28,1)))\n",
        "model.add(MaxPool2D(pool_size=(2,2)))\n",
        "\n",
        "model.add(Flatten())\n",
        "model.add(Dense(units = 128 , activation = 'relu'))\n",
        "model.add(Dropout(0.2))\n",
        "\n",
        "model.add(Dense(units = 24 , activation = 'softmax'))"
      ],
      "metadata": {
        "id": "O3Ik_6J26xf7"
      },
      "execution_count": 23,
      "outputs": []
    },
    {
      "cell_type": "code",
      "source": [
        "# Experimentation\n",
        "# 1 - epochs=10, batch_size=128, accuracy score=0.6865588399330731\n",
        "# 2 - epoch=50, batch_size=128, accuracy score = 0.9125766871165644\n",
        "\n",
        "model.compile(loss=keras.losses.categorical_crossentropy, optimizer=keras.optimizers.Adam(), metrics=['accuracy'])\n",
        "history = model.fit(X_train, y_train, validation_data=(X_valid, y_valid), epochs=50, batch_size=128)\n",
        "model.save('cnn.h5')"
      ],
      "metadata": {
        "colab": {
          "base_uri": "https://localhost:8080/"
        },
        "id": "O3ONpUQh65Hc",
        "outputId": "b7ca03a6-467e-430e-9a67-8752a5e6b698"
      },
      "execution_count": 24,
      "outputs": [
        {
          "output_type": "stream",
          "name": "stdout",
          "text": [
            "Epoch 1/50\n",
            "172/172 [==============================] - 4s 9ms/step - loss: 2.6681 - accuracy: 0.1943 - val_loss: 1.6721 - val_accuracy: 0.4912\n",
            "Epoch 2/50\n",
            "172/172 [==============================] - 1s 8ms/step - loss: 1.3619 - accuracy: 0.5490 - val_loss: 0.9352 - val_accuracy: 0.6984\n",
            "Epoch 3/50\n",
            "172/172 [==============================] - 1s 8ms/step - loss: 0.8780 - accuracy: 0.7041 - val_loss: 0.6445 - val_accuracy: 0.7964\n",
            "Epoch 4/50\n",
            "172/172 [==============================] - 1s 6ms/step - loss: 0.6285 - accuracy: 0.7857 - val_loss: 0.4770 - val_accuracy: 0.8406\n",
            "Epoch 5/50\n",
            "172/172 [==============================] - 1s 5ms/step - loss: 0.4573 - accuracy: 0.8490 - val_loss: 0.3183 - val_accuracy: 0.8991\n",
            "Epoch 6/50\n",
            "172/172 [==============================] - 1s 5ms/step - loss: 0.3308 - accuracy: 0.8887 - val_loss: 0.2126 - val_accuracy: 0.9383\n",
            "Epoch 7/50\n",
            "172/172 [==============================] - 1s 5ms/step - loss: 0.2445 - accuracy: 0.9201 - val_loss: 0.1722 - val_accuracy: 0.9474\n",
            "Epoch 8/50\n",
            "172/172 [==============================] - 1s 5ms/step - loss: 0.1825 - accuracy: 0.9460 - val_loss: 0.0957 - val_accuracy: 0.9812\n",
            "Epoch 9/50\n",
            "172/172 [==============================] - 1s 5ms/step - loss: 0.1315 - accuracy: 0.9601 - val_loss: 0.0708 - val_accuracy: 0.9871\n",
            "Epoch 10/50\n",
            "172/172 [==============================] - 1s 5ms/step - loss: 0.1036 - accuracy: 0.9708 - val_loss: 0.0693 - val_accuracy: 0.9816\n",
            "Epoch 11/50\n",
            "172/172 [==============================] - 1s 5ms/step - loss: 0.0831 - accuracy: 0.9761 - val_loss: 0.0382 - val_accuracy: 0.9931\n",
            "Epoch 12/50\n",
            "172/172 [==============================] - 1s 5ms/step - loss: 0.0681 - accuracy: 0.9813 - val_loss: 0.0254 - val_accuracy: 0.9973\n",
            "Epoch 13/50\n",
            "172/172 [==============================] - 1s 5ms/step - loss: 0.0585 - accuracy: 0.9840 - val_loss: 0.0193 - val_accuracy: 0.9975\n",
            "Epoch 14/50\n",
            "172/172 [==============================] - 1s 5ms/step - loss: 0.0445 - accuracy: 0.9880 - val_loss: 0.0166 - val_accuracy: 0.9975\n",
            "Epoch 15/50\n",
            "172/172 [==============================] - 1s 6ms/step - loss: 0.0384 - accuracy: 0.9904 - val_loss: 0.0097 - val_accuracy: 0.9998\n",
            "Epoch 16/50\n",
            "172/172 [==============================] - 1s 7ms/step - loss: 0.0323 - accuracy: 0.9914 - val_loss: 0.0101 - val_accuracy: 0.9989\n",
            "Epoch 17/50\n",
            "172/172 [==============================] - 1s 7ms/step - loss: 0.0274 - accuracy: 0.9933 - val_loss: 0.0060 - val_accuracy: 0.9995\n",
            "Epoch 18/50\n",
            "172/172 [==============================] - 1s 6ms/step - loss: 0.0275 - accuracy: 0.9926 - val_loss: 0.0058 - val_accuracy: 0.9996\n",
            "Epoch 19/50\n",
            "172/172 [==============================] - 1s 5ms/step - loss: 0.0220 - accuracy: 0.9949 - val_loss: 0.0050 - val_accuracy: 0.9998\n",
            "Epoch 20/50\n",
            "172/172 [==============================] - 1s 5ms/step - loss: 0.0170 - accuracy: 0.9963 - val_loss: 0.0062 - val_accuracy: 1.0000\n",
            "Epoch 21/50\n",
            "172/172 [==============================] - 1s 5ms/step - loss: 0.0185 - accuracy: 0.9953 - val_loss: 0.0033 - val_accuracy: 0.9998\n",
            "Epoch 22/50\n",
            "172/172 [==============================] - 1s 5ms/step - loss: 0.0177 - accuracy: 0.9956 - val_loss: 0.0035 - val_accuracy: 0.9998\n",
            "Epoch 23/50\n",
            "172/172 [==============================] - 1s 5ms/step - loss: 0.0139 - accuracy: 0.9965 - val_loss: 0.0030 - val_accuracy: 0.9998\n",
            "Epoch 24/50\n",
            "172/172 [==============================] - 1s 5ms/step - loss: 0.0117 - accuracy: 0.9974 - val_loss: 0.0024 - val_accuracy: 0.9998\n",
            "Epoch 25/50\n",
            "172/172 [==============================] - 1s 5ms/step - loss: 0.0102 - accuracy: 0.9979 - val_loss: 0.0014 - val_accuracy: 1.0000\n",
            "Epoch 26/50\n",
            "172/172 [==============================] - 1s 5ms/step - loss: 0.0105 - accuracy: 0.9974 - val_loss: 0.0025 - val_accuracy: 0.9996\n",
            "Epoch 27/50\n",
            "172/172 [==============================] - 1s 5ms/step - loss: 0.0128 - accuracy: 0.9960 - val_loss: 0.0018 - val_accuracy: 1.0000\n",
            "Epoch 28/50\n",
            "172/172 [==============================] - 1s 6ms/step - loss: 0.0117 - accuracy: 0.9969 - val_loss: 0.0037 - val_accuracy: 0.9998\n",
            "Epoch 29/50\n",
            "172/172 [==============================] - 1s 7ms/step - loss: 0.0110 - accuracy: 0.9971 - val_loss: 0.0019 - val_accuracy: 0.9998\n",
            "Epoch 30/50\n",
            "172/172 [==============================] - 1s 7ms/step - loss: 0.0087 - accuracy: 0.9981 - val_loss: 0.0013 - val_accuracy: 0.9998\n",
            "Epoch 31/50\n",
            "172/172 [==============================] - 1s 6ms/step - loss: 0.0118 - accuracy: 0.9962 - val_loss: 0.0024 - val_accuracy: 0.9995\n",
            "Epoch 32/50\n",
            "172/172 [==============================] - 1s 8ms/step - loss: 0.0133 - accuracy: 0.9959 - val_loss: 0.0012 - val_accuracy: 1.0000\n",
            "Epoch 33/50\n",
            "172/172 [==============================] - 1s 6ms/step - loss: 0.0096 - accuracy: 0.9973 - val_loss: 0.0011 - val_accuracy: 1.0000\n",
            "Epoch 34/50\n",
            "172/172 [==============================] - 1s 5ms/step - loss: 0.0068 - accuracy: 0.9983 - val_loss: 0.0016 - val_accuracy: 0.9998\n",
            "Epoch 35/50\n",
            "172/172 [==============================] - 1s 5ms/step - loss: 0.0059 - accuracy: 0.9985 - val_loss: 7.8490e-04 - val_accuracy: 1.0000\n",
            "Epoch 36/50\n",
            "172/172 [==============================] - 1s 5ms/step - loss: 0.0070 - accuracy: 0.9980 - val_loss: 7.3725e-04 - val_accuracy: 0.9998\n",
            "Epoch 37/50\n",
            "172/172 [==============================] - 1s 5ms/step - loss: 0.0061 - accuracy: 0.9986 - val_loss: 0.0013 - val_accuracy: 1.0000\n",
            "Epoch 38/50\n",
            "172/172 [==============================] - 1s 5ms/step - loss: 0.0074 - accuracy: 0.9977 - val_loss: 7.6932e-04 - val_accuracy: 0.9998\n",
            "Epoch 39/50\n",
            "172/172 [==============================] - 1s 5ms/step - loss: 0.0078 - accuracy: 0.9978 - val_loss: 8.7374e-04 - val_accuracy: 1.0000\n",
            "Epoch 40/50\n",
            "172/172 [==============================] - 1s 5ms/step - loss: 0.0091 - accuracy: 0.9972 - val_loss: 9.4574e-04 - val_accuracy: 1.0000\n",
            "Epoch 41/50\n",
            "172/172 [==============================] - 1s 6ms/step - loss: 0.0041 - accuracy: 0.9990 - val_loss: 3.4319e-04 - val_accuracy: 1.0000\n",
            "Epoch 42/50\n",
            "172/172 [==============================] - 1s 7ms/step - loss: 0.0071 - accuracy: 0.9980 - val_loss: 9.4090e-04 - val_accuracy: 0.9998\n",
            "Epoch 43/50\n",
            "172/172 [==============================] - 1s 7ms/step - loss: 0.0044 - accuracy: 0.9988 - val_loss: 2.2817e-04 - val_accuracy: 1.0000\n",
            "Epoch 44/50\n",
            "172/172 [==============================] - 1s 7ms/step - loss: 0.0030 - accuracy: 0.9995 - val_loss: 2.4127e-04 - val_accuracy: 1.0000\n",
            "Epoch 45/50\n",
            "172/172 [==============================] - 1s 5ms/step - loss: 0.0099 - accuracy: 0.9968 - val_loss: 0.0016 - val_accuracy: 1.0000\n",
            "Epoch 46/50\n",
            "172/172 [==============================] - 1s 6ms/step - loss: 0.0119 - accuracy: 0.9960 - val_loss: 6.8524e-04 - val_accuracy: 1.0000\n",
            "Epoch 47/50\n",
            "172/172 [==============================] - 1s 5ms/step - loss: 0.0057 - accuracy: 0.9985 - val_loss: 6.4120e-04 - val_accuracy: 0.9998\n",
            "Epoch 48/50\n",
            "172/172 [==============================] - 1s 5ms/step - loss: 0.0024 - accuracy: 0.9995 - val_loss: 4.3558e-04 - val_accuracy: 1.0000\n",
            "Epoch 49/50\n",
            "172/172 [==============================] - 1s 5ms/step - loss: 0.0056 - accuracy: 0.9983 - val_loss: 9.8543e-04 - val_accuracy: 0.9998\n",
            "Epoch 50/50\n",
            "172/172 [==============================] - 1s 5ms/step - loss: 0.0047 - accuracy: 0.9984 - val_loss: 7.1555e-04 - val_accuracy: 1.0000\n"
          ]
        },
        {
          "output_type": "stream",
          "name": "stderr",
          "text": [
            "/usr/local/lib/python3.10/dist-packages/keras/src/engine/training.py:3103: UserWarning: You are saving your model as an HDF5 file via `model.save()`. This file format is considered legacy. We recommend using instead the native Keras format, e.g. `model.save('my_model.keras')`.\n",
            "  saving_api.save_model(\n"
          ]
        }
      ]
    },
    {
      "cell_type": "code",
      "source": [
        "import matplotlib.pyplot as plt\n",
        "from sklearn.metrics import accuracy_score\n",
        "\n",
        "# Test model\n",
        "y_pred = model.predict(test_images)\n",
        "print(\"Test Accuracy:\", accuracy_score(test_labels, y_pred.round()))"
      ],
      "metadata": {
        "colab": {
          "base_uri": "https://localhost:8080/"
        },
        "id": "vPY2bzkO6-Ut",
        "outputId": "3c2a9f3d-0dcb-41e2-b4b0-697e22f9f9a5"
      },
      "execution_count": 28,
      "outputs": [
        {
          "output_type": "stream",
          "name": "stdout",
          "text": [
            "225/225 [==============================] - 1s 3ms/step\n",
            "Test Accuracy: 0.9125766871165644\n"
          ]
        }
      ]
    },
    {
      "cell_type": "code",
      "source": [
        "# Learning curve for loss\n",
        "plt.plot(history.history['loss'])\n",
        "plt.plot(history.history['val_loss'])\n",
        "plt.title(\"Loss Curve\")\n",
        "plt.xlabel('Epoch')\n",
        "plt.ylabel('Loss')\n",
        "plt.legend(['Training loss', 'Validation loss'])\n",
        "plt.show()"
      ],
      "metadata": {
        "colab": {
          "base_uri": "https://localhost:8080/",
          "height": 472
        },
        "id": "xX_tBeFL9hKM",
        "outputId": "c3478cfc-9ecb-4015-c67d-9313e34de2c5"
      },
      "execution_count": 26,
      "outputs": [
        {
          "output_type": "display_data",
          "data": {
            "text/plain": [
              "<Figure size 640x480 with 1 Axes>"
            ],
            "image/png": "[encoded data removed]"
          },
          "metadata": {}
        }
      ]
    }
  ]
}